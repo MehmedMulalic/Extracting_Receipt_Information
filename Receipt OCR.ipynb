{
 "cells": [
  {
   "cell_type": "code",
   "execution_count": null,
   "metadata": {},
   "outputs": [],
   "source": [
    "import easyocr\n",
    "import cv2\n",
    "\n",
    "### OVO JE PRESPORO ALI VEOMA KVALITETNO ~13s\n",
    "\n",
    "reader = easyocr.Reader(['en'])\n",
    "image = cv2.imread('slike/pic13.jpg')\n",
    "results = reader.readtext(image, detail=0, paragraph=True)\n",
    "\n",
    "print(results)"
   ]
  },
  {
   "cell_type": "code",
   "execution_count": 5,
   "id": "7e27ed93",
   "metadata": {},
   "outputs": [
    {
     "name": "stdout",
     "output_type": "stream",
     "text": [
      "\n",
      "Datum:17.10.2023 17:45\n",
      "\n",
      "Total:10,55\n"
     ]
    }
   ],
   "source": [
    "from qreader import QReader\n",
    "import cv2\n",
    "\n",
    "### QR DETECTION -> sporo? 2.8s\n",
    "\n",
    "qreader = QReader()\n",
    "image = cv2.cvtColor(cv2.imread(\"slike/pic13.jpg\"), cv2.COLOR_BGR2RGB)\n",
    "decoded_text = qreader.detect_and_decode(image=image)\n",
    "\n",
    "str_text = ''.join(decoded_text)\n",
    "instances =  [i for i, letter in enumerate(str_text) if letter == '\\n']\n",
    "\n",
    "print(str_text[instances[1]:instances[2]])\n",
    "print(str_text[instances[2]:])"
   ]
  },
  {
   "cell_type": "code",
   "execution_count": 76,
   "metadata": {},
   "outputs": [],
   "source": [
    "import cv2\n",
    "import numpy as np\n",
    "import pytesseract\n",
    "\n",
    "### EDGE DETECTION & MORPHOLOGY\n",
    "\n",
    "### trebam li dodati threshold? to provjeri\n",
    "#binary_image = cv2.adaptiveThreshold(img, 255, cv2.ADAPTIVE_THRESH_GAUSSIAN_C, cv2.THRESH_BINARY, 51, 7) #51, 15\n",
    "# _, binary_image = cv2.threshold(img, 128, 255, cv2.THRESH_BINARY + cv2.THRESH_OTSU)\n",
    "### s obzirom da mi je prosli block bio threshold pa canny\n",
    "### mislim da mi ne treba ali isprobaj pogledaj kako izgleda?\n",
    "\n",
    "image = cv2.imread('slike/subject5.jpg', cv2.IMREAD_GRAYSCALE)\n",
    "\n",
    "blurred = cv2.GaussianBlur(image, (5,5), 0)\n",
    "edges = cv2.Canny(blurred, 50, 150)\n",
    "\n",
    "kernel = np.ones((3,3), np.uint8)\n",
    "kernel1 = np.ones((1,1), np.uint8)\n",
    "\n",
    "closed_edges = cv2.morphologyEx(edges, cv2.MORPH_GRADIENT, kernel, iterations=2)\n",
    "dilated_image = cv2.dilate(closed_edges, kernel1, iterations=1)\n",
    "\n",
    "cv2.imwrite('edges.jpg', dilated_image)\n",
    "\n",
    "### PRICE PROCESSING -> only right side (prices)\n",
    "\n",
    "(imageHeight, imageWidth) = image.shape\n",
    "imageROI = image[0:imageHeight, int(imageWidth/2):imageWidth]\n",
    "\n",
    "result = pytesseract.image_to_string(imageROI, config='--psm 6 -c tessedit_char_whitelist=0123456789,E')\n",
    "\n",
    "# print(pytesseract.image_to_string(dilated_image,\n",
    "# config='--psm 4 --oem 3')) #testiraj oko config-a"
   ]
  },
  {
   "cell_type": "code",
   "execution_count": 77,
   "metadata": {},
   "outputs": [
    {
     "name": "stdout",
     "output_type": "stream",
     "text": [
      "\n",
      "IBFH: AM028120\n",
      "20. Pe » 14:58\n",
      "Wrap Crispy Chicken 8, 00E\n",
      "Medium Fries 1,50\n",
      "Fanta Medius 1,50E\n",
      "Ketchup Sachet 1,00E\n",
      "VE: 17,00%\n",
      "OSN. E: 10,26\n",
      "\n",
      "E: 1,74\n",
      "PDV: 1,74\n",
      "\n",
      "dd7a86900f e522facf0a467ade7b0663\n",
      "\n",
      "Sy,\n",
      "\n"
     ]
    }
   ],
   "source": [
    "import re\n",
    "import pytesseract\n",
    "import cv2\n",
    "\n",
    "### proba da izvucem samo items\n",
    "\n",
    "image = cv2.imread('edges.jpg', 0)\n",
    "all_text = pytesseract.image_to_string(image, config=r'--psm 4')\n",
    "matches = re.finditer(r'\\d{12}', all_text)\n",
    "for m in matches: z = m.end()\n",
    "print(all_text[z:])"
   ]
  },
  {
   "cell_type": "code",
   "execution_count": 45,
   "metadata": {},
   "outputs": [
    {
     "name": "stdout",
     "output_type": "stream",
     "text": [
      "   Items Price\n",
      "0    NaN  0,58\n",
      "1    NaN  4,08\n",
      "2    NaN  4,60\n",
      "3    NaN  0,68\n"
     ]
    },
    {
     "name": "stderr",
     "output_type": "stream",
     "text": [
      "C:\\Users\\meho\\AppData\\Local\\Temp\\ipykernel_13116\\43251792.py:9: FutureWarning: The default dtype for empty Series will be 'object' instead of 'float64' in a future version. Specify a dtype explicitly to silence this warning.\n",
      "  df = pd.concat([df, pd.Series()])\n"
     ]
    }
   ],
   "source": [
    "import pandas as pd\n",
    "import re\n",
    "\n",
    "### DATA PROCESSING\n",
    "pattern = r'\\d+,\\d{2}'\n",
    "find_results = re.findall(pattern, result)\n",
    "\n",
    "df = pd.DataFrame()\n",
    "df = pd.concat([df, pd.Series()])\n",
    "df = pd.concat([df, pd.Series(find_results)], axis=1)\n",
    "df.columns = [\"Items\", \"Price\"]\n",
    "print(df)\n",
    "# df.to_csv(\"results.csv\")"
   ]
  }
 ],
 "metadata": {
  "kernelspec": {
   "display_name": "Python 3",
   "language": "python",
   "name": "python3"
  },
  "language_info": {
   "codemirror_mode": {
    "name": "ipython",
    "version": 3
   },
   "file_extension": ".py",
   "mimetype": "text/x-python",
   "name": "python",
   "nbconvert_exporter": "python",
   "pygments_lexer": "ipython3",
   "version": "3.10.2"
  }
 },
 "nbformat": 4,
 "nbformat_minor": 5
}
